{
 "cells": [
  {
   "cell_type": "code",
   "execution_count": 1,
   "id": "2a4d100a",
   "metadata": {},
   "outputs": [],
   "source": [
    "import pandas as pd\n",
    "from utils.utils import *\n",
    "import os\n",
    "import spacy\n",
    "from nltk.sentiment.vader import SentimentIntensityAnalyzer\n",
    "pd.set_option('max_colwidth', None)"
   ]
  },
  {
   "cell_type": "markdown",
   "id": "4fa0bc31",
   "metadata": {},
   "source": [
    "## Loading the data"
   ]
  },
  {
   "cell_type": "code",
   "execution_count": 2,
   "id": "fbaa561b",
   "metadata": {},
   "outputs": [],
   "source": [
    "df = pd.read_csv('data/twitter_scrape.csv')"
   ]
  },
  {
   "cell_type": "code",
   "execution_count": 3,
   "id": "706bff77",
   "metadata": {},
   "outputs": [
    {
     "data": {
      "text/html": [
       "<div>\n",
       "<style scoped>\n",
       "    .dataframe tbody tr th:only-of-type {\n",
       "        vertical-align: middle;\n",
       "    }\n",
       "\n",
       "    .dataframe tbody tr th {\n",
       "        vertical-align: top;\n",
       "    }\n",
       "\n",
       "    .dataframe thead th {\n",
       "        text-align: right;\n",
       "    }\n",
       "</style>\n",
       "<table border=\"1\" class=\"dataframe\">\n",
       "  <thead>\n",
       "    <tr style=\"text-align: right;\">\n",
       "      <th></th>\n",
       "      <th>TimeStamps</th>\n",
       "      <th>Screen name</th>\n",
       "      <th>Username</th>\n",
       "      <th>Tweets</th>\n",
       "    </tr>\n",
       "  </thead>\n",
       "  <tbody>\n",
       "    <tr>\n",
       "      <th>0</th>\n",
       "      <td>2022-02-25 05:11:24+00:00</td>\n",
       "      <td>BiovoiceNews</td>\n",
       "      <td>BioVoice News</td>\n",
       "      <td>BIO-BUSINESS: Zydus Group announced its new brand identity with the listed entity of the group Cadila Healthcare Limited to be now known as #ZydusLifesciences Limited.\\n\\nMore: https://t.co/qAqZQbhRqT via #6yearsofBioVoiceNews @ZydusUniverse #zydus #pharma #biopharma #vaccine</td>\n",
       "    </tr>\n",
       "    <tr>\n",
       "      <th>1</th>\n",
       "      <td>2022-02-25 05:08:18+00:00</td>\n",
       "      <td>3rdworldnetwork</td>\n",
       "      <td>Third World Network</td>\n",
       "      <td>#WTO: Dangers of \"take-it-or-leave-it\" compromise outcome on #TRIPSwaiver \\nSouth Africa expressed concern that the delay in approving a TRIPS waiver is hampering efforts to diversify proper production of vaccines &amp;amp; address \"#vaccine inequity.\\n\\n#covid19\\n\\n➡️https://t.co/eIxVzoo78L https://t.co/Mf8YXC15jF</td>\n",
       "    </tr>\n",
       "    <tr>\n",
       "      <th>2</th>\n",
       "      <td>2022-02-25 05:06:03+00:00</td>\n",
       "      <td>NST_Online</td>\n",
       "      <td>New Straits Times</td>\n",
       "      <td>#NSTnation State Health director Dr Othman Warijo said the case involved a 10-year-old girl with a history of asthma, who received her vaccine at the Sultanah Bahiyah Hospital.\\n\\n#Kedah #Children #Vaccine #Covid19 #PICKids \\n\\nhttps://t.co/Rg2WTa1sIQ</td>\n",
       "    </tr>\n",
       "    <tr>\n",
       "      <th>3</th>\n",
       "      <td>2022-02-25 05:00:00+00:00</td>\n",
       "      <td>ppe_china</td>\n",
       "      <td>ChinaPPE</td>\n",
       "      <td>Non-Medical Face Mask KN95\\nProtect you from non-oily airborne pollutants\\n\\n#immunity #vaccine #TestKit #glove #3plymask #ff2 #KN95 https://t.co/IdVuPqS1li</td>\n",
       "    </tr>\n",
       "    <tr>\n",
       "      <th>4</th>\n",
       "      <td>2022-02-25 04:59:49+00:00</td>\n",
       "      <td>Dog8Bone</td>\n",
       "      <td>Cryptogarb</td>\n",
       "      <td>https://t.co/4ySms7FGHF ForSale\\n#Vaccine #COVID19 #Covid #Medical #Life #Domains #Technology #Tech #Science #medicine #Doctor #100DaysOfCode #Bot #Memes #BigData #Security #Cloud #javascript #java #datascience #MachineLearning #web3 #NFT #VC #Investor #socialmedia #branding #ai https://t.co/pXaSo88a1o</td>\n",
       "    </tr>\n",
       "  </tbody>\n",
       "</table>\n",
       "</div>"
      ],
      "text/plain": [
       "                  TimeStamps      Screen name             Username  \\\n",
       "0  2022-02-25 05:11:24+00:00     BiovoiceNews        BioVoice News   \n",
       "1  2022-02-25 05:08:18+00:00  3rdworldnetwork  Third World Network   \n",
       "2  2022-02-25 05:06:03+00:00       NST_Online    New Straits Times   \n",
       "3  2022-02-25 05:00:00+00:00        ppe_china             ChinaPPE   \n",
       "4  2022-02-25 04:59:49+00:00         Dog8Bone           Cryptogarb   \n",
       "\n",
       "                                                                                                                                                                                                                                                                                                                     Tweets  \n",
       "0                                      BIO-BUSINESS: Zydus Group announced its new brand identity with the listed entity of the group Cadila Healthcare Limited to be now known as #ZydusLifesciences Limited.\\n\\nMore: https://t.co/qAqZQbhRqT via #6yearsofBioVoiceNews @ZydusUniverse #zydus #pharma #biopharma #vaccine  \n",
       "1  #WTO: Dangers of \"take-it-or-leave-it\" compromise outcome on #TRIPSwaiver \\nSouth Africa expressed concern that the delay in approving a TRIPS waiver is hampering efforts to diversify proper production of vaccines &amp; address \"#vaccine inequity.\\n\\n#covid19\\n\\n➡️https://t.co/eIxVzoo78L https://t.co/Mf8YXC15jF  \n",
       "2                                                               #NSTnation State Health director Dr Othman Warijo said the case involved a 10-year-old girl with a history of asthma, who received her vaccine at the Sultanah Bahiyah Hospital.\\n\\n#Kedah #Children #Vaccine #Covid19 #PICKids \\n\\nhttps://t.co/Rg2WTa1sIQ  \n",
       "3                                                                                                                                                              Non-Medical Face Mask KN95\\nProtect you from non-oily airborne pollutants\\n\\n#immunity #vaccine #TestKit #glove #3plymask #ff2 #KN95 https://t.co/IdVuPqS1li  \n",
       "4           https://t.co/4ySms7FGHF ForSale\\n#Vaccine #COVID19 #Covid #Medical #Life #Domains #Technology #Tech #Science #medicine #Doctor #100DaysOfCode #Bot #Memes #BigData #Security #Cloud #javascript #java #datascience #MachineLearning #web3 #NFT #VC #Investor #socialmedia #branding #ai https://t.co/pXaSo88a1o  "
      ]
     },
     "execution_count": 3,
     "metadata": {},
     "output_type": "execute_result"
    }
   ],
   "source": [
    "df.head()"
   ]
  },
  {
   "cell_type": "code",
   "execution_count": 4,
   "id": "6c2afdd8",
   "metadata": {},
   "outputs": [],
   "source": [
    "df['Tweets_corrected'] = df['Tweets'].apply(lambda x: sentence_cleaning(x))"
   ]
  },
  {
   "cell_type": "markdown",
   "id": "22f05c37",
   "metadata": {},
   "source": [
    "## Lemmatization"
   ]
  },
  {
   "cell_type": "code",
   "execution_count": 5,
   "id": "7fc290a4",
   "metadata": {},
   "outputs": [],
   "source": [
    "os.environ['LANGUAGE_MODEL_SPACY'] = \"en_core_web_sm\"\n",
    "lemmatizer = spacy.load(os.environ['LANGUAGE_MODEL_SPACY'])\n",
    "df['lemmatized_tweets'] = df['Tweets_corrected'].apply(lambda row: ' '.join([x.lemma_ for x in lemmatizer(row)]))"
   ]
  },
  {
   "cell_type": "markdown",
   "id": "d8d61e47",
   "metadata": {},
   "source": [
    "## VADER"
   ]
  },
  {
   "cell_type": "code",
   "execution_count": 6,
   "id": "133c6ba5",
   "metadata": {},
   "outputs": [],
   "source": [
    "analyzer = SentimentIntensityAnalyzer()\n",
    "df['VADER_compound'] = df['lemmatized_tweets'].apply(lambda row: analyzer.polarity_scores(row)['compound'])"
   ]
  },
  {
   "cell_type": "code",
   "execution_count": 7,
   "id": "19fa4055",
   "metadata": {},
   "outputs": [],
   "source": [
    "def assign_sentiment(score):\n",
    "    if score >= 0.1:\n",
    "        return 'Positive'\n",
    "    elif score <= -0.1:\n",
    "        return 'Negative'\n",
    "    else:\n",
    "        return 'Neutral'"
   ]
  },
  {
   "cell_type": "code",
   "execution_count": 8,
   "id": "7e4873b7",
   "metadata": {},
   "outputs": [],
   "source": [
    "df['VADER_sentiment'] = df['VADER_compound'].apply(assign_sentiment)"
   ]
  },
  {
   "cell_type": "code",
   "execution_count": 9,
   "id": "93452b7d",
   "metadata": {
    "scrolled": true
   },
   "outputs": [
    {
     "data": {
      "text/html": [
       "<div>\n",
       "<style scoped>\n",
       "    .dataframe tbody tr th:only-of-type {\n",
       "        vertical-align: middle;\n",
       "    }\n",
       "\n",
       "    .dataframe tbody tr th {\n",
       "        vertical-align: top;\n",
       "    }\n",
       "\n",
       "    .dataframe thead th {\n",
       "        text-align: right;\n",
       "    }\n",
       "</style>\n",
       "<table border=\"1\" class=\"dataframe\">\n",
       "  <thead>\n",
       "    <tr style=\"text-align: right;\">\n",
       "      <th></th>\n",
       "      <th>TimeStamps</th>\n",
       "      <th>Screen name</th>\n",
       "      <th>Username</th>\n",
       "      <th>Tweets</th>\n",
       "      <th>Tweets_corrected</th>\n",
       "      <th>lemmatized_tweets</th>\n",
       "      <th>VADER_compound</th>\n",
       "      <th>VADER_sentiment</th>\n",
       "    </tr>\n",
       "  </thead>\n",
       "  <tbody>\n",
       "    <tr>\n",
       "      <th>0</th>\n",
       "      <td>2022-02-25 05:11:24+00:00</td>\n",
       "      <td>BiovoiceNews</td>\n",
       "      <td>BioVoice News</td>\n",
       "      <td>BIO-BUSINESS: Zydus Group announced its new brand identity with the listed entity of the group Cadila Healthcare Limited to be now known as #ZydusLifesciences Limited.\\n\\nMore: https://t.co/qAqZQbhRqT via #6yearsofBioVoiceNews @ZydusUniverse #zydus #pharma #biopharma #vaccine</td>\n",
       "      <td>zydus group announced its new brand identity with the listed entity of the group cadila healthcare limited to be now known as zyduslifesciences limited more</td>\n",
       "      <td>zydus group announce -PRON- new brand identity with the list entity of the group cadila healthcare limit to be now know as zyduslifescience limited more</td>\n",
       "      <td>-0.2263</td>\n",
       "      <td>Negative</td>\n",
       "    </tr>\n",
       "    <tr>\n",
       "      <th>1</th>\n",
       "      <td>2022-02-25 05:08:18+00:00</td>\n",
       "      <td>3rdworldnetwork</td>\n",
       "      <td>Third World Network</td>\n",
       "      <td>#WTO: Dangers of \"take-it-or-leave-it\" compromise outcome on #TRIPSwaiver \\nSouth Africa expressed concern that the delay in approving a TRIPS waiver is hampering efforts to diversify proper production of vaccines &amp;amp; address \"#vaccine inequity.\\n\\n#covid19\\n\\n➡️https://t.co/eIxVzoo78L https://t.co/Mf8YXC15jF</td>\n",
       "      <td>dangers of take it or leave it compromise outcome on tripswaiver south africa expressed concern that the delay in approving a trips waiver is hampering efforts to diversify proper production of vaccines amp address vaccine inequity covid</td>\n",
       "      <td>danger of take -PRON- or leave -PRON- compromise outcome on tripswaiver south africa express concern that the delay in approve a trip waiver be hamper effort to diversify proper production of vaccine amp address vaccine inequity covid</td>\n",
       "      <td>-0.7096</td>\n",
       "      <td>Negative</td>\n",
       "    </tr>\n",
       "    <tr>\n",
       "      <th>2</th>\n",
       "      <td>2022-02-25 05:06:03+00:00</td>\n",
       "      <td>NST_Online</td>\n",
       "      <td>New Straits Times</td>\n",
       "      <td>#NSTnation State Health director Dr Othman Warijo said the case involved a 10-year-old girl with a history of asthma, who received her vaccine at the Sultanah Bahiyah Hospital.\\n\\n#Kedah #Children #Vaccine #Covid19 #PICKids \\n\\nhttps://t.co/Rg2WTa1sIQ</td>\n",
       "      <td>nstnation state health director dr othman warijo said the case involved a year old girl with a history of asthma who received her vaccine at the sultanah bahiyah hospital kedah children vaccine covid pickids</td>\n",
       "      <td>nstnation state health director dr othman warijo say the case involve a year old girl with a history of asthma who receive -PRON- vaccine at the sultanah bahiyah hospital kedah child vaccine covid pickid</td>\n",
       "      <td>0.0000</td>\n",
       "      <td>Neutral</td>\n",
       "    </tr>\n",
       "    <tr>\n",
       "      <th>3</th>\n",
       "      <td>2022-02-25 05:00:00+00:00</td>\n",
       "      <td>ppe_china</td>\n",
       "      <td>ChinaPPE</td>\n",
       "      <td>Non-Medical Face Mask KN95\\nProtect you from non-oily airborne pollutants\\n\\n#immunity #vaccine #TestKit #glove #3plymask #ff2 #KN95 https://t.co/IdVuPqS1li</td>\n",
       "      <td>non medical face mask kn protect you from non oily airborne pollutants immunity vaccine testkit glove plymask ff kn</td>\n",
       "      <td>non medical face mask kn protect -PRON- from non oily airborne pollutant immunity vaccine testkit glove plymask ff kn</td>\n",
       "      <td>0.6597</td>\n",
       "      <td>Positive</td>\n",
       "    </tr>\n",
       "    <tr>\n",
       "      <th>4</th>\n",
       "      <td>2022-02-25 04:59:49+00:00</td>\n",
       "      <td>Dog8Bone</td>\n",
       "      <td>Cryptogarb</td>\n",
       "      <td>https://t.co/4ySms7FGHF ForSale\\n#Vaccine #COVID19 #Covid #Medical #Life #Domains #Technology #Tech #Science #medicine #Doctor #100DaysOfCode #Bot #Memes #BigData #Security #Cloud #javascript #java #datascience #MachineLearning #web3 #NFT #VC #Investor #socialmedia #branding #ai https://t.co/pXaSo88a1o</td>\n",
       "      <td>forsale vaccine covid covid medical life domains technology tech science medicine doctor daysofcode bot memes bigdata security cloud javascript java datascience machinelearning web nft vc investor socialmedia branding ai</td>\n",
       "      <td>forsale vaccine covid covid medical life domain technology tech science medicine doctor daysofcode bot memes bigdata security cloud javascript java datascience machinelearning web nft vc investor socialmedia brand ai</td>\n",
       "      <td>0.3400</td>\n",
       "      <td>Positive</td>\n",
       "    </tr>\n",
       "  </tbody>\n",
       "</table>\n",
       "</div>"
      ],
      "text/plain": [
       "                  TimeStamps      Screen name             Username  \\\n",
       "0  2022-02-25 05:11:24+00:00     BiovoiceNews        BioVoice News   \n",
       "1  2022-02-25 05:08:18+00:00  3rdworldnetwork  Third World Network   \n",
       "2  2022-02-25 05:06:03+00:00       NST_Online    New Straits Times   \n",
       "3  2022-02-25 05:00:00+00:00        ppe_china             ChinaPPE   \n",
       "4  2022-02-25 04:59:49+00:00         Dog8Bone           Cryptogarb   \n",
       "\n",
       "                                                                                                                                                                                                                                                                                                                     Tweets  \\\n",
       "0                                      BIO-BUSINESS: Zydus Group announced its new brand identity with the listed entity of the group Cadila Healthcare Limited to be now known as #ZydusLifesciences Limited.\\n\\nMore: https://t.co/qAqZQbhRqT via #6yearsofBioVoiceNews @ZydusUniverse #zydus #pharma #biopharma #vaccine   \n",
       "1  #WTO: Dangers of \"take-it-or-leave-it\" compromise outcome on #TRIPSwaiver \\nSouth Africa expressed concern that the delay in approving a TRIPS waiver is hampering efforts to diversify proper production of vaccines &amp; address \"#vaccine inequity.\\n\\n#covid19\\n\\n➡️https://t.co/eIxVzoo78L https://t.co/Mf8YXC15jF   \n",
       "2                                                               #NSTnation State Health director Dr Othman Warijo said the case involved a 10-year-old girl with a history of asthma, who received her vaccine at the Sultanah Bahiyah Hospital.\\n\\n#Kedah #Children #Vaccine #Covid19 #PICKids \\n\\nhttps://t.co/Rg2WTa1sIQ   \n",
       "3                                                                                                                                                              Non-Medical Face Mask KN95\\nProtect you from non-oily airborne pollutants\\n\\n#immunity #vaccine #TestKit #glove #3plymask #ff2 #KN95 https://t.co/IdVuPqS1li   \n",
       "4           https://t.co/4ySms7FGHF ForSale\\n#Vaccine #COVID19 #Covid #Medical #Life #Domains #Technology #Tech #Science #medicine #Doctor #100DaysOfCode #Bot #Memes #BigData #Security #Cloud #javascript #java #datascience #MachineLearning #web3 #NFT #VC #Investor #socialmedia #branding #ai https://t.co/pXaSo88a1o   \n",
       "\n",
       "                                                                                                                                                                                                                                 Tweets_corrected  \\\n",
       "0                                                                                    zydus group announced its new brand identity with the listed entity of the group cadila healthcare limited to be now known as zyduslifesciences limited more   \n",
       "1  dangers of take it or leave it compromise outcome on tripswaiver south africa expressed concern that the delay in approving a trips waiver is hampering efforts to diversify proper production of vaccines amp address vaccine inequity covid    \n",
       "2                                 nstnation state health director dr othman warijo said the case involved a year old girl with a history of asthma who received her vaccine at the sultanah bahiyah hospital kedah children vaccine covid pickids   \n",
       "3                                                                                                                            non medical face mask kn protect you from non oily airborne pollutants immunity vaccine testkit glove plymask ff kn    \n",
       "4                    forsale vaccine covid covid medical life domains technology tech science medicine doctor daysofcode bot memes bigdata security cloud javascript java datascience machinelearning web nft vc investor socialmedia branding ai   \n",
       "\n",
       "                                                                                                                                                                                                                            lemmatized_tweets  \\\n",
       "0                                                                                    zydus group announce -PRON- new brand identity with the list entity of the group cadila healthcare limit to be now know as zyduslifescience limited more   \n",
       "1  danger of take -PRON- or leave -PRON- compromise outcome on tripswaiver south africa express concern that the delay in approve a trip waiver be hamper effort to diversify proper production of vaccine amp address vaccine inequity covid   \n",
       "2                                 nstnation state health director dr othman warijo say the case involve a year old girl with a history of asthma who receive -PRON- vaccine at the sultanah bahiyah hospital kedah child vaccine covid pickid   \n",
       "3                                                                                                                       non medical face mask kn protect -PRON- from non oily airborne pollutant immunity vaccine testkit glove plymask ff kn   \n",
       "4                    forsale vaccine covid covid medical life domain technology tech science medicine doctor daysofcode bot memes bigdata security cloud javascript java datascience machinelearning web nft vc investor socialmedia brand ai   \n",
       "\n",
       "   VADER_compound VADER_sentiment  \n",
       "0         -0.2263        Negative  \n",
       "1         -0.7096        Negative  \n",
       "2          0.0000         Neutral  \n",
       "3          0.6597        Positive  \n",
       "4          0.3400        Positive  "
      ]
     },
     "execution_count": 9,
     "metadata": {},
     "output_type": "execute_result"
    }
   ],
   "source": [
    "df.head()"
   ]
  },
  {
   "cell_type": "markdown",
   "id": "5b945413",
   "metadata": {},
   "source": [
    "## Export dataset with VADER sentiment"
   ]
  },
  {
   "cell_type": "code",
   "execution_count": 10,
   "id": "b24b62dd",
   "metadata": {},
   "outputs": [],
   "source": [
    "export_df = df.loc[:, ['lemmatized_tweets', 'VADER_sentiment']].reset_index(drop=True)"
   ]
  },
  {
   "cell_type": "code",
   "execution_count": 11,
   "id": "a5bec6ca",
   "metadata": {},
   "outputs": [
    {
     "data": {
      "text/html": [
       "<div>\n",
       "<style scoped>\n",
       "    .dataframe tbody tr th:only-of-type {\n",
       "        vertical-align: middle;\n",
       "    }\n",
       "\n",
       "    .dataframe tbody tr th {\n",
       "        vertical-align: top;\n",
       "    }\n",
       "\n",
       "    .dataframe thead th {\n",
       "        text-align: right;\n",
       "    }\n",
       "</style>\n",
       "<table border=\"1\" class=\"dataframe\">\n",
       "  <thead>\n",
       "    <tr style=\"text-align: right;\">\n",
       "      <th></th>\n",
       "      <th>lemmatized_tweets</th>\n",
       "      <th>VADER_sentiment</th>\n",
       "    </tr>\n",
       "  </thead>\n",
       "  <tbody>\n",
       "    <tr>\n",
       "      <th>0</th>\n",
       "      <td>zydus group announce -PRON- new brand identity with the list entity of the group cadila healthcare limit to be now know as zyduslifescience limited more</td>\n",
       "      <td>Negative</td>\n",
       "    </tr>\n",
       "    <tr>\n",
       "      <th>1</th>\n",
       "      <td>danger of take -PRON- or leave -PRON- compromise outcome on tripswaiver south africa express concern that the delay in approve a trip waiver be hamper effort to diversify proper production of vaccine amp address vaccine inequity covid</td>\n",
       "      <td>Negative</td>\n",
       "    </tr>\n",
       "    <tr>\n",
       "      <th>2</th>\n",
       "      <td>nstnation state health director dr othman warijo say the case involve a year old girl with a history of asthma who receive -PRON- vaccine at the sultanah bahiyah hospital kedah child vaccine covid pickid</td>\n",
       "      <td>Neutral</td>\n",
       "    </tr>\n",
       "    <tr>\n",
       "      <th>3</th>\n",
       "      <td>non medical face mask kn protect -PRON- from non oily airborne pollutant immunity vaccine testkit glove plymask ff kn</td>\n",
       "      <td>Positive</td>\n",
       "    </tr>\n",
       "    <tr>\n",
       "      <th>4</th>\n",
       "      <td>forsale vaccine covid covid medical life domain technology tech science medicine doctor daysofcode bot memes bigdata security cloud javascript java datascience machinelearning web nft vc investor socialmedia brand ai</td>\n",
       "      <td>Positive</td>\n",
       "    </tr>\n",
       "  </tbody>\n",
       "</table>\n",
       "</div>"
      ],
      "text/plain": [
       "                                                                                                                                                                                                                            lemmatized_tweets  \\\n",
       "0                                                                                    zydus group announce -PRON- new brand identity with the list entity of the group cadila healthcare limit to be now know as zyduslifescience limited more   \n",
       "1  danger of take -PRON- or leave -PRON- compromise outcome on tripswaiver south africa express concern that the delay in approve a trip waiver be hamper effort to diversify proper production of vaccine amp address vaccine inequity covid   \n",
       "2                                 nstnation state health director dr othman warijo say the case involve a year old girl with a history of asthma who receive -PRON- vaccine at the sultanah bahiyah hospital kedah child vaccine covid pickid   \n",
       "3                                                                                                                       non medical face mask kn protect -PRON- from non oily airborne pollutant immunity vaccine testkit glove plymask ff kn   \n",
       "4                    forsale vaccine covid covid medical life domain technology tech science medicine doctor daysofcode bot memes bigdata security cloud javascript java datascience machinelearning web nft vc investor socialmedia brand ai   \n",
       "\n",
       "  VADER_sentiment  \n",
       "0        Negative  \n",
       "1        Negative  \n",
       "2         Neutral  \n",
       "3        Positive  \n",
       "4        Positive  "
      ]
     },
     "execution_count": 11,
     "metadata": {},
     "output_type": "execute_result"
    }
   ],
   "source": [
    "export_df.head()"
   ]
  },
  {
   "cell_type": "code",
   "execution_count": 12,
   "id": "1f0fa736",
   "metadata": {},
   "outputs": [],
   "source": [
    "export_df.to_csv('data/tweets_processed.csv', index=False)"
   ]
  }
 ],
 "metadata": {
  "kernelspec": {
   "display_name": "Python 3 (ipykernel)",
   "language": "python",
   "name": "python3"
  },
  "language_info": {
   "codemirror_mode": {
    "name": "ipython",
    "version": 3
   },
   "file_extension": ".py",
   "mimetype": "text/x-python",
   "name": "python",
   "nbconvert_exporter": "python",
   "pygments_lexer": "ipython3",
   "version": "3.8.8"
  }
 },
 "nbformat": 4,
 "nbformat_minor": 5
}
