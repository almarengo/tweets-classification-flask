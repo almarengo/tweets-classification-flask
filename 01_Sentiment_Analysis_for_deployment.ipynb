{
 "cells": [
  {
   "cell_type": "code",
   "execution_count": 1,
   "id": "c375eef9",
   "metadata": {},
   "outputs": [],
   "source": [
    "import pandas as pd\n",
    "import numpy as np\n",
    "from nltk.corpus import stopwords\n",
    "from sklearn.linear_model import LogisticRegression\n",
    "from sklearn.feature_extraction.text import TfidfVectorizer, CountVectorizer\n",
    "from sklearn.pipeline import make_pipeline\n",
    "import pickle\n",
    "\n",
    "pd.set_option('max_colwidth', None)"
   ]
  },
  {
   "cell_type": "code",
   "execution_count": 2,
   "id": "79ccf3c0",
   "metadata": {
    "scrolled": false
   },
   "outputs": [
    {
     "data": {
      "text/html": [
       "<div>\n",
       "<style scoped>\n",
       "    .dataframe tbody tr th:only-of-type {\n",
       "        vertical-align: middle;\n",
       "    }\n",
       "\n",
       "    .dataframe tbody tr th {\n",
       "        vertical-align: top;\n",
       "    }\n",
       "\n",
       "    .dataframe thead th {\n",
       "        text-align: right;\n",
       "    }\n",
       "</style>\n",
       "<table border=\"1\" class=\"dataframe\">\n",
       "  <thead>\n",
       "    <tr style=\"text-align: right;\">\n",
       "      <th></th>\n",
       "      <th>Tweet</th>\n",
       "      <th>Sentiment</th>\n",
       "    </tr>\n",
       "  </thead>\n",
       "  <tbody>\n",
       "    <tr>\n",
       "      <th>0</th>\n",
       "      <td>zydus group announce -PRON- new brand identity with the list entity of the group cadila healthcare limit to be now know as zyduslifescience limited more</td>\n",
       "      <td>Negative</td>\n",
       "    </tr>\n",
       "    <tr>\n",
       "      <th>1</th>\n",
       "      <td>danger of take -PRON- or leave -PRON- compromise outcome on tripswaiver south africa express concern that the delay in approve a trip waiver be hamper effort to diversify proper production of vaccine amp address vaccine inequity covid</td>\n",
       "      <td>Negative</td>\n",
       "    </tr>\n",
       "    <tr>\n",
       "      <th>2</th>\n",
       "      <td>nstnation state health director dr othman warijo say the case involve a year old girl with a history of asthma who receive -PRON- vaccine at the sultanah bahiyah hospital kedah child vaccine covid pickid</td>\n",
       "      <td>Neutral</td>\n",
       "    </tr>\n",
       "    <tr>\n",
       "      <th>3</th>\n",
       "      <td>non medical face mask kn protect -PRON- from non oily airborne pollutant immunity vaccine testkit glove plymask ff kn</td>\n",
       "      <td>Positive</td>\n",
       "    </tr>\n",
       "    <tr>\n",
       "      <th>4</th>\n",
       "      <td>forsale vaccine covid covid medical life domain technology tech science medicine doctor daysofcode bot memes bigdata security cloud javascript java datascience machinelearning web nft vc investor socialmedia brand ai</td>\n",
       "      <td>Positive</td>\n",
       "    </tr>\n",
       "  </tbody>\n",
       "</table>\n",
       "</div>"
      ],
      "text/plain": [
       "                                                                                                                                                                                                                                        Tweet  \\\n",
       "0                                                                                    zydus group announce -PRON- new brand identity with the list entity of the group cadila healthcare limit to be now know as zyduslifescience limited more   \n",
       "1  danger of take -PRON- or leave -PRON- compromise outcome on tripswaiver south africa express concern that the delay in approve a trip waiver be hamper effort to diversify proper production of vaccine amp address vaccine inequity covid   \n",
       "2                                 nstnation state health director dr othman warijo say the case involve a year old girl with a history of asthma who receive -PRON- vaccine at the sultanah bahiyah hospital kedah child vaccine covid pickid   \n",
       "3                                                                                                                       non medical face mask kn protect -PRON- from non oily airborne pollutant immunity vaccine testkit glove plymask ff kn   \n",
       "4                    forsale vaccine covid covid medical life domain technology tech science medicine doctor daysofcode bot memes bigdata security cloud javascript java datascience machinelearning web nft vc investor socialmedia brand ai   \n",
       "\n",
       "  Sentiment  \n",
       "0  Negative  \n",
       "1  Negative  \n",
       "2   Neutral  \n",
       "3  Positive  \n",
       "4  Positive  "
      ]
     },
     "execution_count": 2,
     "metadata": {},
     "output_type": "execute_result"
    }
   ],
   "source": [
    "df = pd.read_csv('data/tweets_processed.csv')\n",
    "df.rename(columns={'lemmatized_tweets': 'Tweet', 'VADER_sentiment':'Sentiment'}, inplace=True)\n",
    "df.head()"
   ]
  },
  {
   "cell_type": "code",
   "execution_count": 3,
   "id": "2d5c831f",
   "metadata": {},
   "outputs": [],
   "source": [
    "df.dropna(inplace=True)"
   ]
  },
  {
   "cell_type": "code",
   "execution_count": 4,
   "id": "d4a3c130",
   "metadata": {},
   "outputs": [],
   "source": [
    "X = df['Tweet']\n",
    "y = df['Sentiment']"
   ]
  },
  {
   "cell_type": "markdown",
   "id": "4a88a103",
   "metadata": {},
   "source": [
    "## Vectorizer"
   ]
  },
  {
   "cell_type": "code",
   "execution_count": 5,
   "id": "4a534644",
   "metadata": {},
   "outputs": [],
   "source": [
    "stop_words = stopwords.words('english')\n",
    "stop_words.extend(['covid', 'dose', 'vaccine', 'vaccination', 'amp', 'coronavirus'])"
   ]
  },
  {
   "cell_type": "code",
   "execution_count": 6,
   "id": "236d1680",
   "metadata": {},
   "outputs": [],
   "source": [
    "# Initialize the vectorizer\n",
    "vectorizer = TfidfVectorizer(min_df=5, lowercase=True, stop_words=stop_words)\n",
    "\n",
    "# Fit it on X_train\n",
    "vectorizer.fit(X)\n",
    "\n",
    "# Transform\n",
    "X = vectorizer.transform(X)"
   ]
  },
  {
   "cell_type": "markdown",
   "id": "383ce709",
   "metadata": {},
   "source": [
    "## Modeling"
   ]
  },
  {
   "cell_type": "markdown",
   "id": "39196c6c",
   "metadata": {},
   "source": [
    "### Logistic Regression"
   ]
  },
  {
   "cell_type": "code",
   "execution_count": 7,
   "id": "fb4d1657",
   "metadata": {},
   "outputs": [
    {
     "data": {
      "text/plain": [
       "LogisticRegression(max_iter=500)"
      ]
     },
     "execution_count": 7,
     "metadata": {},
     "output_type": "execute_result"
    }
   ],
   "source": [
    "# instantiate a logistic regression\n",
    "logreg = LogisticRegression(max_iter=500)\n",
    "\n",
    "# fit the model to train set only\n",
    "logreg.fit(X, y)"
   ]
  },
  {
   "cell_type": "code",
   "execution_count": 8,
   "id": "72b3eb5c",
   "metadata": {
    "scrolled": true
   },
   "outputs": [
    {
     "data": {
      "text/plain": [
       "array([[0.25100495, 0.18982336, 0.55917169]])"
      ]
     },
     "execution_count": 8,
     "metadata": {},
     "output_type": "execute_result"
    }
   ],
   "source": [
    "new_review = [\"Absolutely love this place! The best ever!\"]\n",
    "\n",
    "X_new = vectorizer.transform(new_review)\n",
    "logreg.predict_proba(X_new)"
   ]
  },
  {
   "cell_type": "code",
   "execution_count": 12,
   "id": "da041f6c",
   "metadata": {},
   "outputs": [
    {
     "data": {
      "text/plain": [
       "'Positive'"
      ]
     },
     "execution_count": 12,
     "metadata": {},
     "output_type": "execute_result"
    }
   ],
   "source": [
    "logreg.predict(X_new)[0]"
   ]
  },
  {
   "cell_type": "markdown",
   "id": "ef511fc1",
   "metadata": {},
   "source": [
    "## Create a pipeline"
   ]
  },
  {
   "cell_type": "code",
   "execution_count": 10,
   "id": "77d38636",
   "metadata": {},
   "outputs": [
    {
     "data": {
      "text/plain": [
       "array([[0.22709134, 0.48033409, 0.29257457]])"
      ]
     },
     "execution_count": 10,
     "metadata": {},
     "output_type": "execute_result"
    }
   ],
   "source": [
    "model_pipeline = make_pipeline(vectorizer, logreg)\n",
    "model_pipeline.predict_proba({'This is the worst'})"
   ]
  },
  {
   "cell_type": "markdown",
   "id": "54be86c5",
   "metadata": {},
   "source": [
    "## Save Model"
   ]
  },
  {
   "cell_type": "code",
   "execution_count": 11,
   "id": "d682c57a",
   "metadata": {},
   "outputs": [],
   "source": [
    "filename = 'saved_model/finalized_model.pickle'\n",
    "pickle.dump(model_pipeline, open(filename, 'wb'))"
   ]
  }
 ],
 "metadata": {
  "kernelspec": {
   "display_name": "Python 3 (ipykernel)",
   "language": "python",
   "name": "python3"
  },
  "language_info": {
   "codemirror_mode": {
    "name": "ipython",
    "version": 3
   },
   "file_extension": ".py",
   "mimetype": "text/x-python",
   "name": "python",
   "nbconvert_exporter": "python",
   "pygments_lexer": "ipython3",
   "version": "3.8.8"
  }
 },
 "nbformat": 4,
 "nbformat_minor": 5
}
